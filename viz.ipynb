{
 "cells": [
  {
   "cell_type": "code",
   "execution_count": 1,
   "metadata": {},
   "outputs": [],
   "source": [
    "%load_ext autoreload\n",
    "%autoreload 2\n",
    "\n",
    "import yaml\n",
    "import mesa\n",
    "from mesa.experimental import JupyterViz\n",
    "import solara\n",
    "from matplotlib.figure import Figure\n",
    "from trans_infra.trans_infra.model import TransInfraNetworkModel\n",
    "import networkx as nx"
   ]
  },
  {
   "cell_type": "code",
   "execution_count": 2,
   "metadata": {},
   "outputs": [],
   "source": [
    "def make_trans_graph(model):\n",
    "    # TODO: update edge and node weight iteratively in model\n",
    "    G_trans = model.G_trans\n",
    "    fig = Figure()\n",
    "    ax = fig.subplots()\n",
    "    \n",
    "    osmid_2_idx = {k: v for (k, v) in zip(G_trans.nodes, range(len(G_trans.nodes))) }\n",
    "    \n",
    "    nodes, edges = G_trans.nodes(data=True), G_trans.edges(data=True)\n",
    "    \n",
    "    max_road_len = max([ d['length'] for (u, v, d) in edges ])\n",
    "    layout = { n[0] : [ n[1]['x'], n[1]['y'] ] for n in G_trans.nodes(data=True) }\n",
    "    \n",
    "    node_color = [ v['color'] for (k, v) in nodes ]\n",
    "    edge_color = [ d['color'] for (u, v, d) in edges ]      \n",
    "    edge_weight = [ d['length'] / max_road_len for (u, v, d) in edges ]\n",
    "    node_weight = [1] * len(nodes)\n",
    "    for a in model.space.get_all_cell_contents():\n",
    "        node_weight[ osmid_2_idx[a.pos] ] += 3\n",
    "\n",
    "    nx.draw_networkx(G_trans, pos=layout,\n",
    "                    edge_color=edge_color, \n",
    "                    node_color=node_color,\n",
    "                    width=edge_weight,\n",
    "                    node_size=node_weight,\n",
    "                    with_labels=False,\n",
    "                    ax=ax)\n",
    "    \n",
    "    ax.set_title(\"Places and Their Connections\")\n",
    "    solara.FigureMatplotlib(fig)"
   ]
  },
  {
   "cell_type": "code",
   "execution_count": 3,
   "metadata": {},
   "outputs": [],
   "source": [
    "def make_social_graph(model):\n",
    "    fig = Figure()\n",
    "    ax = fig.subplots()\n",
    "    \n",
    "    G_socia = nx.from_scipy_sparse_array(model.A_social)\n",
    "    pos = nx.spring_layout(G_socia)\n",
    "    betCent = nx.betweenness_centrality(G_socia, normalized=True, endpoints=True)\n",
    "    node_color = [20000.0 * G_socia.degree(v) for v in G_socia]\n",
    "    node_size =  [v * 1000 for v in betCent.values()]\n",
    "    nx.draw_networkx(G_socia, pos=pos, with_labels=True,\n",
    "                    node_color=node_color, node_size=node_size,\n",
    "                    width=[e[2] for e in G_socia.edges.data('weight')],\n",
    "                    font_size=5, ax=ax)\n",
    "    \n",
    "    ax.set_title(\"Social Ties\")\n",
    "    solara.FigureMatplotlib(fig)"
   ]
  },
  {
   "cell_type": "code",
   "execution_count": 4,
   "metadata": {},
   "outputs": [],
   "source": [
    "def agent_portrayal(graph):\n",
    "    # TODO: display per agent needs and counts\n",
    "    nodes, edges = graph.nodes(data=True), graph.edges(data=True)\n",
    "    \n",
    "    max_road_len = max([ d['length'] for (u, v, d) in edges ])\n",
    "\n",
    "    node_color = [ v['color'] for (k, v) in nodes ]\n",
    "    edge_color = [ d['color'] for (u, v, d) in edges ]      \n",
    "    edge_weight = [ d['length'] / max_road_len for (u, v, d) in edges ]\n",
    "    \n",
    "    return {\n",
    "        \"width\": edge_weight,\n",
    "        \"edge_color\": edge_color,\n",
    "        \"node_color\": node_color,\n",
    "        \"node_size\": 10\n",
    "    }"
   ]
  },
  {
   "cell_type": "code",
   "execution_count": 5,
   "metadata": {},
   "outputs": [],
   "source": [
    "osm_file = \"./east_yaml.osm\"\n",
    "\n",
    "model_params = {\n",
    "    \"num_agents\": {\n",
    "        \"type\": \"SliderInt\",\n",
    "        \"value\": 50,\n",
    "        \"label\": \"Number of agents:\",\n",
    "        \"min\": 10,\n",
    "        \"max\": 100,\n",
    "        \"step\": 1,\n",
    "    },\n",
    "    \"graphfile\": osm_file\n",
    "}"
   ]
  },
  {
   "cell_type": "code",
   "execution_count": 6,
   "metadata": {},
   "outputs": [
    {
     "name": "stderr",
     "output_type": "stream",
     "text": [
      "/Users/alexanderkumar/miniconda3/envs/graphs/lib/python3.9/site-packages/mesa/time.py:80: FutureWarning: The AgentSet is experimental. It may be changed or removed in any and all future releases, including patch releases.\n",
      "We would love to hear what you think about this new feature. If you have any thoughts, share them with us here: https://github.com/projectmesa/mesa/discussions/1919\n",
      "  self._agents: AgentSet = AgentSet(agents, model)\n"
     ]
    },
    {
     "data": {
      "application/vnd.jupyter.widget-view+json": {
       "model_id": "3e81183b163e419eae4c754d7f3da472",
       "version_major": 2,
       "version_minor": 0
      },
      "text/html": [
       "Cannot show widget. You probably want to rerun the code cell above (<i>Click in the code cell, and press Shift+Enter <kbd>⇧</kbd>+<kbd>↩</kbd></i>)."
      ],
      "text/plain": [
       "Cannot show ipywidgets in text"
      ]
     },
     "metadata": {},
     "output_type": "display_data"
    }
   ],
   "source": [
    "# TODO: make for west campus & other cities\n",
    "page = JupyterViz(\n",
    "    TransInfraNetworkModel,\n",
    "    model_params,\n",
    "    measures=[make_trans_graph, make_social_graph],\n",
    "    name=\"Transit Network Model\",\n",
    "    agent_portrayal=agent_portrayal,\n",
    ")\n",
    "# This is required to render the visualization in the Jupyter notebook\n",
    "page"
   ]
  }
 ],
 "metadata": {
  "kernelspec": {
   "display_name": "graphs",
   "language": "python",
   "name": "python3"
  },
  "language_info": {
   "codemirror_mode": {
    "name": "ipython",
    "version": 3
   },
   "file_extension": ".py",
   "mimetype": "text/x-python",
   "name": "python",
   "nbconvert_exporter": "python",
   "pygments_lexer": "ipython3",
   "version": "3.9.18"
  }
 },
 "nbformat": 4,
 "nbformat_minor": 2
}
